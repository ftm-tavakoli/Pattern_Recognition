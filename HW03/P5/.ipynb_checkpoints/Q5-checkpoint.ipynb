{
 "cells": [
  {
   "cell_type": "code",
   "execution_count": 1,
   "id": "850ac0e0",
   "metadata": {},
   "outputs": [],
   "source": [
    "import numpy as np\n",
    "import pandas as pd \n",
    "from sklearn.decomposition import PCA\n",
    "from sklearn.neighbors import KernelDensity\n",
    "from sklearn.model_selection import GridSearchCV\n",
    "import matplotlib.pyplot as plt\n",
    "import warnings                                            \n",
    "warnings.filterwarnings('ignore') "
   ]
  },
  {
   "cell_type": "code",
   "execution_count": 2,
   "id": "0c50eac5",
   "metadata": {},
   "outputs": [],
   "source": [
    "data = pd.read_csv('digits.csv')"
   ]
  },
  {
   "cell_type": "code",
   "execution_count": 3,
   "id": "1d0566a7",
   "metadata": {},
   "outputs": [
    {
     "data": {
      "text/plain": [
       "(1797, 64)"
      ]
     },
     "execution_count": 3,
     "metadata": {},
     "output_type": "execute_result"
    }
   ],
   "source": [
    "data.shape"
   ]
  },
  {
   "cell_type": "code",
   "execution_count": 4,
   "id": "d9d428c0",
   "metadata": {},
   "outputs": [
    {
     "name": "stdout",
     "output_type": "stream",
     "text": [
      "[[ 0.  0.  5. ...  0.  0.  0.]\n",
      " [ 0.  0.  0. ... 10.  0.  0.]\n",
      " [ 0.  0.  0. ... 16.  9.  0.]\n",
      " ...\n",
      " [ 0.  0.  1. ...  6.  0.  0.]\n",
      " [ 0.  0.  2. ... 12.  0.  0.]\n",
      " [ 0.  0. 10. ... 12.  1.  0.]]\n"
     ]
    }
   ],
   "source": [
    "X = data.to_numpy()\n",
    "\n",
    "print(X)"
   ]
  },
  {
   "cell_type": "markdown",
   "id": "ace9a270",
   "metadata": {},
   "source": [
    "# Part a"
   ]
  },
  {
   "cell_type": "code",
   "execution_count": 6,
   "id": "f4c8d7b2",
   "metadata": {},
   "outputs": [
    {
     "name": "stdout",
     "output_type": "stream",
     "text": [
      "Original number of features: 64\n",
      "Reduced number of features: 15\n",
      "[[ 2.22044605e-16 -1.73094658e-02 -2.23428838e-01 -1.35913306e-01\n",
      "  -3.30323047e-02 -9.66340867e-02 -8.32944369e-03  2.26900124e-03\n",
      "  -3.20516495e-04 -1.19308902e-01 -2.44451667e-01  1.48512736e-01\n",
      "  -4.67319476e-02 -2.17740742e-01 -1.48136762e-02  4.47779617e-03\n",
      "  -4.94136621e-05 -7.95419427e-02  8.33951497e-02  2.15915341e-01\n",
      "  -1.72126791e-01 -1.63712103e-01  2.86444524e-02  4.23251873e-03\n",
      "   9.85488464e-05  6.42319050e-02  2.54093316e-01 -3.56771020e-02\n",
      "  -2.09462576e-01 -4.31311423e-02  5.13118739e-02  2.13422753e-04\n",
      "   0.00000000e+00  1.59950877e-01  3.68690780e-01  1.64406821e-01\n",
      "   8.52007942e-02  3.72982906e-02  2.15866872e-02  0.00000000e+00\n",
      "   1.28865573e-03  1.06945278e-01  3.03067455e-01  2.47813041e-01\n",
      "   2.09637295e-01  1.22325175e-02 -3.69458478e-02  1.61485010e-03\n",
      "   6.93023483e-04 -8.35144581e-03 -5.58598952e-02  9.30534194e-02\n",
      "   1.07387727e-01 -1.37734567e-01 -6.32879408e-02  9.61670117e-04\n",
      "   9.55078542e-06 -1.40786852e-02 -2.35675491e-01 -1.41225592e-01\n",
      "  -9.15964423e-03 -8.94184706e-02 -3.65977166e-02 -1.14684988e-02]\n",
      " [ 4.16333634e-17 -1.01064576e-02 -4.90849332e-02 -9.43338371e-03\n",
      "  -5.36015277e-02 -1.17755339e-01 -6.21282061e-02 -7.93574628e-03\n",
      "  -1.63216289e-04 -2.10167031e-02  6.03485708e-02 -5.33771933e-03\n",
      "  -9.19769652e-02 -5.19210354e-02 -5.89354677e-02 -3.33283007e-03\n",
      "  -4.22873682e-05  3.62458290e-02  1.98257362e-01 -4.86386670e-02\n",
      "  -2.25574844e-01 -4.50542677e-03  2.67697056e-02 -2.08730802e-04\n",
      "  -5.66234432e-05  7.71234788e-02  1.88447118e-01 -1.37952537e-01\n",
      "  -2.61042793e-01  4.98350408e-02  6.51113990e-02  4.03202300e-05\n",
      "  -0.00000000e+00  8.81559626e-02  8.71737701e-02 -2.70860162e-01\n",
      "  -2.85291815e-01  1.66461604e-01  1.27860506e-01 -0.00000000e+00\n",
      "   2.89439549e-04  5.08304505e-02  1.30274428e-01 -2.68906465e-01\n",
      "  -3.01575556e-01  2.40259088e-01  2.17555557e-01  1.32725959e-03\n",
      "   2.86743098e-04  1.05548230e-02  1.53370736e-01 -1.19535166e-01\n",
      "  -9.72507597e-02  2.85869500e-01  1.48776482e-01  5.42291315e-04\n",
      "  -3.34028041e-05 -1.00791183e-02 -7.02724154e-02  1.71107779e-02\n",
      "   1.94296402e-01  1.76697086e-01  1.94547128e-02 -6.69694717e-03]\n",
      " [-6.24500451e-17  1.83420777e-02  1.26475570e-01  1.32154772e-01\n",
      "  -1.34016036e-01 -2.64938885e-01 -1.16643770e-01 -1.68423431e-02\n",
      "   3.93970881e-04  7.94371481e-02  8.74387513e-02  6.55909322e-02\n",
      "  -7.89767991e-04 -2.80101985e-01 -1.59704493e-01 -1.51616104e-02\n",
      "   2.12613402e-04  4.24412403e-02  4.72721792e-03  7.38147722e-02\n",
      "   9.65403961e-02 -3.07581092e-01 -1.48011865e-01 -6.33142074e-03\n",
      "   5.01583924e-05 -4.41792312e-02 -7.25665159e-02  7.13385283e-02\n",
      "  -8.05252781e-03 -3.53008002e-01 -1.48327690e-01 -2.18498350e-04\n",
      "   0.00000000e+00 -5.45021479e-02 -3.36019895e-02  1.41335242e-01\n",
      "   1.50096840e-02 -2.57973846e-01 -9.38408675e-02  0.00000000e+00\n",
      "  -3.19977131e-04 -2.41498831e-02  1.21723762e-01  1.71362108e-01\n",
      "  -8.57778240e-02 -1.44627538e-01  7.01061881e-02  2.92247524e-03\n",
      "  -1.29047392e-04  1.86136103e-02  2.34990770e-01  1.69857794e-01\n",
      "  -5.39961435e-02  8.48975475e-02  2.22787048e-01  2.18621357e-02\n",
      "  -1.39804917e-05  1.75833144e-02  1.23158234e-01  9.83531888e-02\n",
      "   1.38485261e-01  2.32084183e-01  1.67026574e-01  3.48043821e-02]\n",
      " [-3.46944695e-17  2.00129067e-02  1.77426836e-01  1.95680266e-01\n",
      "   3.20894396e-02  9.51344606e-02  7.18344473e-02  9.20553291e-03\n",
      "   5.95977036e-05  7.48787456e-02  3.07557442e-01  3.70445035e-02\n",
      "  -1.53700462e-01  2.71636488e-02  4.54366392e-02  2.41665751e-03\n",
      "   1.12275605e-04  1.23901926e-01  2.19812307e-01 -2.75643926e-01\n",
      "  -2.78362866e-01 -5.73540446e-02  2.24800938e-02 -1.50771711e-03\n",
      "   8.94446138e-05  9.83622644e-02  1.16326664e-01 -1.92185694e-01\n",
      "  -2.15997203e-01 -8.19874600e-02  5.52832778e-02 -5.87339253e-05\n",
      "  -0.00000000e+00  5.23184092e-02  9.79145149e-02  1.04810866e-02\n",
      "  -1.32055433e-01 -1.60842591e-01  9.95623934e-03 -0.00000000e+00\n",
      "  -4.99104621e-04  6.27069305e-03  5.21393037e-02  5.89660497e-02\n",
      "  -2.56254482e-02 -1.94298528e-01 -8.43564847e-02 -2.28970124e-03\n",
      "  -4.06726344e-04  1.06453684e-02  1.07331212e-01  1.32072282e-01\n",
      "  -3.17381890e-02 -2.25621435e-01 -1.39554017e-01 -1.59987354e-02\n",
      "  -1.20691187e-05  2.10070177e-02  2.03251631e-01  2.08230798e-01\n",
      "  -2.24549010e-01 -3.07658748e-01 -9.93888925e-02 -2.44737756e-02]\n",
      " [ 5.11743425e-17  1.40784526e-02  8.28236434e-02 -6.56021777e-02\n",
      "  -1.53934224e-02  1.66985034e-01  9.48931738e-02  4.39545618e-03\n",
      "   9.69031027e-05  5.23095038e-02  4.44317508e-02 -4.57421360e-03\n",
      "  -1.33896925e-01 -2.15380242e-01  3.54111135e-02  9.41731066e-03\n",
      "   1.81469493e-04  9.86915888e-02  2.18718943e-01  1.46339843e-01\n",
      "  -1.31925684e-01 -3.62163121e-01 -1.77395887e-02  5.91947826e-03\n",
      "   1.57241123e-04  1.12918861e-01  3.14997712e-01  3.07684348e-01\n",
      "   2.76347549e-02 -1.68647791e-01 -9.77577015e-02  1.76633665e-04\n",
      "  -0.00000000e+00 -3.89491982e-02 -7.45781049e-02  4.64853749e-03\n",
      "   7.28944083e-02  1.68421875e-02 -1.05784702e-01 -0.00000000e+00\n",
      "  -4.06249963e-04 -9.92276682e-02 -3.99400232e-01 -2.30079252e-01\n",
      "   1.02602169e-01  1.19985522e-01 -4.12244249e-02 -5.31530003e-04\n",
      "  -7.50795349e-04 -2.54623727e-02 -2.60687432e-01 -1.95896417e-01\n",
      "   1.23535444e-01  4.59251513e-02 -1.76767294e-02  7.18187666e-03\n",
      "  -9.38852934e-05  1.24602083e-02  7.08985497e-02  2.21497928e-02\n",
      "   5.05657505e-02 -3.56165204e-02 -1.59319683e-02  2.24346393e-02]\n",
      " [ 1.73472348e-18 -9.63054795e-03 -8.09665295e-02  1.27458322e-02\n",
      "  -1.48046955e-02  3.14013596e-02  5.30411317e-02  1.36743390e-02\n",
      "  -2.53173682e-04 -1.24555640e-02 -4.97998125e-02 -9.44236844e-02\n",
      "  -2.84570706e-01 -1.36742831e-01  4.22466562e-02  8.35723065e-03\n",
      "  -2.92246760e-05 -3.25519095e-02 -1.38304319e-01 -3.02259453e-01\n",
      "  -2.53823551e-01 -1.16084004e-01 -3.74902023e-03  3.57524127e-03\n",
      "  -4.49540628e-05 -3.82750321e-02 -1.04866478e-01 -1.62743224e-01\n",
      "   2.75158011e-02  5.07875977e-02 -1.28941122e-02  2.42211339e-06\n",
      "  -0.00000000e+00 -3.39445092e-02  3.39425636e-02  1.92604917e-01\n",
      "   2.84547121e-01  2.54830923e-01  5.25246313e-02 -0.00000000e+00\n",
      "  -9.21987776e-04 -6.43531383e-02 -1.34042880e-01  5.09168422e-02\n",
      "  -1.00675520e-01 -9.81258327e-02  1.82234682e-01  5.87795703e-03\n",
      "  -1.41162249e-03 -5.74878974e-02 -2.38114240e-01 -2.36257363e-02\n",
      "  -3.87841169e-01 -1.77000860e-01  2.65564579e-01  1.80066445e-02\n",
      "  -9.47321638e-05 -1.16188466e-02 -7.07428846e-02 -2.07353648e-02\n",
      "  -1.06992272e-01  1.64491979e-01  1.43986636e-01  1.50509449e-02]\n",
      " [-3.78386558e-17 -2.48969190e-03 -3.70107063e-02 -2.22544140e-02\n",
      "  -1.13305215e-01 -1.19687300e-01  1.83339934e-03  1.10902944e-02\n",
      "  -3.07520794e-04 -1.10610407e-03 -4.36977713e-02  1.03760786e-01\n",
      "   3.38001245e-03 -1.19253008e-01  1.52313635e-02  1.04094618e-02\n",
      "   9.92718428e-05  3.56679632e-02  2.13960381e-02 -2.22423543e-02\n",
      "  -7.22802639e-02 -1.85524917e-02  4.51216916e-02  1.79206680e-03\n",
      "  -2.39201671e-06  3.37270566e-02 -1.76946354e-01 -4.70554317e-01\n",
      "  -2.06273750e-01  1.78439652e-02 -3.25889847e-03 -1.30291280e-06\n",
      "   0.00000000e+00  1.30957901e-02 -2.97226523e-01 -3.86161005e-01\n",
      "   3.21406095e-02 -2.89299348e-02 -3.52051472e-02  0.00000000e+00\n",
      "   8.35432498e-04  1.21314402e-02 -2.11633294e-01  2.67691727e-02\n",
      "   3.30788782e-01 -4.66741245e-02 -8.95773883e-02 -1.82703645e-03\n",
      "   4.59635270e-04 -2.19255469e-02 -1.60733615e-01  1.46243250e-01\n",
      "   3.20769311e-01 -7.09194408e-03  8.13564412e-02  3.76654367e-02\n",
      "   7.86109544e-05 -9.36206851e-04 -7.01272613e-02  3.60401173e-02\n",
      "   4.25058509e-02  7.18903729e-02  2.17499622e-01  1.08636819e-01]\n",
      " [-1.27393755e-18  2.26455075e-02  2.06948039e-01  1.00490916e-01\n",
      "  -1.22677533e-01 -3.16339753e-01 -9.18935559e-02 -5.33762232e-03\n",
      "  -5.21599462e-04  5.03496971e-02 -3.67466738e-02 -7.64011396e-02\n",
      "   7.65798330e-02 -3.70256713e-01 -1.43118050e-01  1.71763957e-03\n",
      "  -1.55243493e-04 -7.84287198e-02 -2.60873798e-01  7.79690568e-03\n",
      "   1.94623967e-01 -2.23363900e-01 -2.07187109e-02  5.91488995e-03\n",
      "  -1.06829396e-05 -1.50809593e-02 -1.09667414e-01 -3.19921012e-02\n",
      "   5.56085406e-02  1.19043791e-01  1.39494139e-01  2.88948160e-04\n",
      "  -0.00000000e+00  1.36220806e-01  8.26522326e-02 -1.17116327e-01\n",
      "  -8.19286269e-02  3.13771938e-01  1.73286832e-01 -0.00000000e+00\n",
      "   1.67576342e-03  9.71091450e-02 -5.72906487e-02 -3.72687334e-02\n",
      "  -7.48672305e-02  6.01459521e-02  4.34288201e-02 -8.00163644e-04\n",
      "   7.01457427e-04  2.62711958e-02 -1.00799042e-01 -1.30648551e-01\n",
      "   6.23258407e-02 -8.52993057e-02 -1.08639778e-01 -1.02949167e-02\n",
      "  -1.80829117e-04  2.00957415e-02  2.25864283e-01  3.88722883e-02\n",
      "  -1.23337262e-01 -3.11548377e-01 -1.46140476e-01 -1.55613267e-02]\n",
      " [-9.10729825e-18 -1.69795844e-02 -9.85585615e-02 -4.02268247e-02\n",
      "  -1.88243507e-01 -2.06583536e-01 -3.05545989e-02  5.61741511e-03\n",
      "  -2.34529874e-04 -2.39650990e-02 -5.69042100e-03  3.71667982e-02\n",
      "   3.69247612e-02 -9.15117536e-02 -5.08555441e-02  4.43346668e-03\n",
      "   4.88135355e-04  9.43910134e-02  2.49498883e-01  1.44565387e-01\n",
      "   1.36879759e-01  1.41512992e-01  2.41614481e-02  1.83866779e-03\n",
      "   3.45517798e-04  7.15975130e-02  2.48380401e-01  1.64200365e-01\n",
      "   1.46428006e-01  2.91319696e-01  1.17991955e-01  2.94135871e-04\n",
      "   0.00000000e+00 -3.49688637e-02 -8.10967501e-02 -1.24291815e-01\n",
      "  -2.91198711e-01 -1.00024094e-01  8.56774998e-02  0.00000000e+00\n",
      "  -9.29409971e-04 -8.43158906e-02 -1.85436180e-01  5.40352814e-02\n",
      "  -1.33648682e-01 -4.14531973e-01  2.25347198e-02  4.01559600e-03\n",
      "  -5.26356314e-04 -3.75850835e-02 -9.10269999e-02  7.93606596e-02\n",
      "  -1.85483277e-01 -2.93072050e-01  5.96576059e-02  1.54153932e-02\n",
      "   2.95567688e-06 -1.73451569e-02 -1.27109054e-01 -8.20531013e-02\n",
      "  -9.03431331e-02  5.83691387e-02  1.17774965e-01  2.83342836e-02]\n",
      " [-5.42101086e-17  2.48798696e-02  4.86529251e-03 -2.21432332e-01\n",
      "   3.03951628e-02  2.19042921e-01  1.16789024e-01  1.81534291e-02\n",
      "  -1.32276121e-05  4.87607074e-03 -2.62892281e-01 -1.65024442e-01\n",
      "  -4.17023886e-02 -1.79266580e-02  1.02533053e-01  1.59247480e-02\n",
      "   1.16247076e-04 -7.43151148e-02 -3.54766230e-01  7.14009437e-02\n",
      "  -6.17508791e-02 -2.09829936e-01  5.25076364e-02  3.42334650e-03\n",
      "  -5.56006713e-05 -7.18021700e-02 -1.47195986e-01  2.38923801e-02\n",
      "  -2.83656232e-01 -2.12390519e-01  6.37371156e-02  5.10995630e-05\n",
      "  -0.00000000e+00 -2.63910780e-02 -2.48362906e-02 -1.65606029e-01\n",
      "  -3.64917320e-01 -2.63649985e-01 -3.65993520e-02 -0.00000000e+00\n",
      "   1.05493864e-03  4.23266909e-02 -4.87690253e-04 -9.14149261e-02\n",
      "  -1.24739985e-01 -2.09144313e-01 -5.78009811e-02 -1.36161577e-03\n",
      "   1.70279340e-03  4.53472136e-02  3.70403742e-02 -1.72897926e-01\n",
      "  -1.24949819e-01 -1.31539878e-01 -5.92733961e-02 -1.33240578e-03\n",
      "   8.96618931e-05  2.48130393e-02  2.91446152e-02 -2.26468028e-01\n",
      "  -6.05455861e-02  3.47501992e-02  3.46538333e-02 -3.00175800e-03]\n",
      " [ 4.20060579e-17  2.47091406e-03  1.32246274e-01  1.40504508e-02\n",
      "  -3.36421353e-01 -2.46559385e-01 -2.84544257e-02  7.39548162e-03\n",
      "  -5.14620144e-04 -7.14625862e-02 -1.37844709e-02 -1.23047506e-01\n",
      "  -3.97161259e-01 -8.35726835e-02  1.05102946e-01  1.35115927e-02\n",
      "  -8.17368633e-04 -1.58796843e-01 -3.64925998e-02  1.46589651e-02\n",
      "  -2.01691147e-01  2.32876069e-01  2.02361186e-01  1.15839464e-02\n",
      "  -3.49354885e-04 -1.03631175e-01 -4.73366606e-02  1.24071221e-01\n",
      "   3.99364538e-02  2.07330385e-01  1.02528913e-01  4.74437022e-04\n",
      "   0.00000000e+00 -1.20370588e-02  1.88980359e-02  1.31214302e-01\n",
      "   8.86148755e-02 -1.79272678e-01 -1.43970856e-01  0.00000000e+00\n",
      "   2.08565770e-04  1.54347042e-02  9.09316927e-02 -1.60258840e-01\n",
      "   1.91188098e-01 -3.67355336e-02 -2.10421235e-01 -1.72545441e-03\n",
      "  -4.52343159e-04  4.61930844e-02  1.79180511e-01 -2.97197077e-01\n",
      "   5.32925835e-02  2.24327730e-02 -7.03455819e-02  1.85177612e-02\n",
      "  -7.36147887e-05  7.37605053e-03  9.65684432e-02  7.58443106e-02\n",
      "   9.87537225e-02  5.16152500e-02  8.46226655e-02  6.43233659e-02]\n",
      " [ 2.32547602e-17 -6.96596520e-03  2.54661062e-03  1.75369438e-01\n",
      "  -2.58379660e-02  8.61751045e-02  2.00105580e-01  4.87715434e-02\n",
      "  -1.70821575e-03 -1.47808375e-01 -2.83327774e-02  3.10469132e-01\n",
      "  -2.13361767e-02 -2.96171580e-02  2.20618463e-01  3.43419379e-02\n",
      "  -5.99235213e-04 -2.51905697e-01 -3.53397393e-02  3.20384826e-01\n",
      "  -2.30383316e-01 -7.17606375e-02  1.31491289e-01  7.41836022e-03\n",
      "  -2.15942612e-04 -2.28534090e-01 -1.91480968e-01  2.49812684e-01\n",
      "  -8.09889468e-02  1.17443327e-01  6.15815751e-02  4.48645962e-04\n",
      "  -0.00000000e+00 -1.65459713e-01 -1.23948632e-01 -6.88933207e-05\n",
      "  -1.02127902e-01  1.75624768e-01  6.97184320e-02 -0.00000000e+00\n",
      "  -7.13310944e-04 -8.97389264e-02 -4.15962110e-02 -1.04091158e-02\n",
      "  -1.16583552e-01  4.63441076e-02  1.26115135e-01  8.55577835e-03\n",
      "   1.13613562e-03  7.62210429e-03  9.83939368e-02  3.40164392e-01\n",
      "   5.82327156e-02  1.41431532e-02  9.12724446e-02  2.40063958e-02\n",
      "   1.28536526e-05 -1.27448537e-03  1.26253331e-02  2.16515269e-01\n",
      "  -7.97283339e-02 -8.87712003e-02 -1.43067961e-02  1.27842692e-02]\n",
      " [ 1.95834017e-18 -2.68540844e-02 -1.16238728e-01 -6.08629909e-02\n",
      "  -1.27928982e-01  7.13824605e-02  8.10615330e-02  7.03940466e-03\n",
      "  -1.04944764e-03 -1.28283816e-01  3.78499229e-03 -3.40830524e-02\n",
      "  -2.99700933e-01 -2.86293609e-02  4.82883432e-02 -6.15809451e-03\n",
      "  -5.35339823e-04 -1.15007052e-01  2.11823627e-01  7.01979917e-02\n",
      "   1.18293406e-01 -8.19603865e-02 -1.24415104e-01 -1.24555877e-02\n",
      "  -1.57649703e-04 -2.97356200e-02 -4.35940875e-02 -5.28041746e-02\n",
      "   3.31183959e-01 -2.06988550e-01 -2.53001817e-01 -5.05591133e-04\n",
      "   0.00000000e+00  4.40392553e-02 -2.50392762e-01 -3.85619184e-01\n",
      "   9.71808987e-02  1.14073636e-01 -4.99727956e-02  0.00000000e+00\n",
      "   1.43635726e-03  1.77397596e-01  2.34098498e-01 -1.55735905e-02\n",
      "  -6.16682992e-05  9.87531707e-02  8.87634486e-03 -2.00577273e-03\n",
      "   8.63718829e-04  6.87261691e-02  2.10162275e-01 -3.71392651e-02\n",
      "  -1.76891559e-01 -2.31327079e-01 -7.39826181e-02 -1.86604654e-02\n",
      "   1.47783572e-04 -1.60218256e-02 -1.05821516e-01  6.07202733e-04\n",
      "  -9.26248093e-02 -1.35634550e-01 -8.29557860e-02 -3.17060839e-02]\n",
      " [ 1.34056516e-16  5.26662932e-02  2.80937470e-01 -1.89271021e-01\n",
      "  -1.64451196e-01  2.37511368e-01  1.86993317e-01  1.68554148e-02\n",
      "  -2.41056391e-04  1.33962316e-01  5.45151733e-02 -1.05043796e-01\n",
      "   4.60637041e-02 -4.19862209e-02  1.22543153e-01  5.08702032e-03\n",
      "  -6.96592781e-04  7.81490750e-02  9.94009192e-02  5.08581363e-02\n",
      "   6.56256986e-02 -4.99494349e-02  2.11131897e-02 -3.54366444e-03\n",
      "  -3.92115214e-04 -1.91316568e-02  1.29816540e-01 -2.15275063e-02\n",
      "   8.90742041e-03  2.48165993e-01  1.02881254e-02 -8.59290587e-05\n",
      "   0.00000000e+00  7.73072950e-03  5.76030632e-02 -4.72422494e-02\n",
      "   9.01447303e-03  2.07820273e-01 -2.49237985e-02  0.00000000e+00\n",
      "   1.79049166e-03  7.82821895e-02  7.55654651e-02  2.66358637e-01\n",
      "   8.99928345e-02  1.27136615e-01 -5.11789835e-02 -8.33913086e-04\n",
      "   1.33452099e-03  7.00228693e-02  2.06376290e-01  1.08142759e-01\n",
      "   2.61139780e-02  9.99057897e-02  1.36149534e-01  7.00370040e-03\n",
      "   1.07365169e-04  5.70608557e-02  3.20825131e-01 -3.19957325e-01\n",
      "  -2.60383246e-01  2.08421356e-01  1.99927807e-01  1.49361609e-02]\n",
      " [ 8.70120948e-17 -9.81317651e-03 -1.04957577e-01 -1.70962609e-01\n",
      "  -4.17132035e-01 -1.37744224e-01  1.73419042e-01  4.82692896e-02\n",
      "  -6.97636583e-04 -3.45688726e-02  1.01149388e-01  1.66685523e-01\n",
      "   2.27056839e-01 -9.99607565e-02  2.15231839e-01  4.01339758e-02\n",
      "   4.70268408e-04  4.62441218e-02  1.60688164e-01 -8.60315113e-02\n",
      "   1.08413989e-01 -4.02829676e-02  1.60425271e-01  1.56308790e-02\n",
      "   2.56152063e-04 -1.32624901e-02 -1.23708338e-01 -2.10702148e-01\n",
      "  -8.36664607e-02 -1.22571875e-01  2.81124872e-02  3.97573312e-04\n",
      "  -0.00000000e+00 -1.05020194e-01 -1.27648050e-01  2.40230589e-01\n",
      "   6.86641458e-02 -7.22996276e-02 -8.70007667e-02 -0.00000000e+00\n",
      "  -2.57752511e-03 -1.12105540e-01 -5.93023460e-02  2.05614130e-02\n",
      "  -2.55179873e-01  1.03888614e-01 -1.08806721e-01 -8.03145452e-03\n",
      "  -1.44651401e-03 -3.18391229e-02 -4.45844469e-02 -9.77385279e-02\n",
      "  -1.43051618e-01  2.24939630e-01 -1.33742698e-01 -3.36859734e-02\n",
      "   4.27669670e-05 -1.46772457e-03 -1.22896116e-01 -1.65042522e-01\n",
      "  -1.37632458e-01 -1.20854414e-01 -1.95721782e-01 -6.68597749e-02]]\n"
     ]
    }
   ],
   "source": [
    "pca = PCA(n_components=15, whiten=False)\n",
    "X_pca = pca.fit_transform(X)\n",
    "print(\"Original number of features:\", X.shape[1])\n",
    "print(\"Reduced number of features:\", X_pca.shape[1])\n",
    "print(pca.components_)"
   ]
  },
  {
   "cell_type": "markdown",
   "id": "3e9c6726",
   "metadata": {},
   "source": [
    "# Part b"
   ]
  },
  {
   "cell_type": "code",
   "execution_count": 7,
   "id": "b9bb0ccb",
   "metadata": {},
   "outputs": [
    {
     "name": "stdout",
     "output_type": "stream",
     "text": [
      "best bandwidth: 3.79269019073225\n"
     ]
    }
   ],
   "source": [
    "params = {\"bandwidth\": np.logspace(-1, 1, 20)}\n",
    "grid = GridSearchCV(KernelDensity(), params)\n",
    "grid.fit(X_pca)\n",
    "print(\"best bandwidth: {0}\".format(grid.best_estimator_.bandwidth))\n",
    "kde = grid.best_estimator_"
   ]
  },
  {
   "cell_type": "markdown",
   "id": "c2a455de",
   "metadata": {},
   "source": [
    "# Part c"
   ]
  },
  {
   "cell_type": "code",
   "execution_count": 8,
   "id": "8b1f7f81",
   "metadata": {},
   "outputs": [],
   "source": [
    "def plot_digits(data):\n",
    "    fig, ax = plt.subplots(10, 2, figsize=(8, 8),\n",
    "                           subplot_kw=dict(xticks=[], yticks=[]))\n",
    "    fig.subplots_adjust()\n",
    "    for i, axi in enumerate(ax.flat):\n",
    "        im = axi.imshow(data[i].reshape(8, 8), cmap='binary')\n",
    "        im.set_clim(0, 16)"
   ]
  },
  {
   "cell_type": "code",
   "execution_count": 9,
   "id": "78cd2dee",
   "metadata": {},
   "outputs": [],
   "source": [
    "data_new = kde.sample(20, random_state=0)\n",
    "data_new = pca.inverse_transform(data_new)"
   ]
  },
  {
   "cell_type": "code",
   "execution_count": 10,
   "id": "9b869db6",
   "metadata": {},
   "outputs": [
    {
     "data": {
      "image/png": "[encoded data removed]",
      "text/plain": [
       "<Figure size 576x576 with 20 Axes>"
      ]
     },
     "metadata": {},
     "output_type": "display_data"
    }
   ],
   "source": [
    "plot_digits(data_new)"
   ]
  }
 ],
 "metadata": {
  "kernelspec": {
   "display_name": "Python 3 (ipykernel)",
   "language": "python",
   "name": "python3"
  },
  "language_info": {
   "codemirror_mode": {
    "name": "ipython",
    "version": 3
   },
   "file_extension": ".py",
   "mimetype": "text/x-python",
   "name": "python",
   "nbconvert_exporter": "python",
   "pygments_lexer": "ipython3",
   "version": "3.9.7"
  }
 },
 "nbformat": 4,
 "nbformat_minor": 5
}
