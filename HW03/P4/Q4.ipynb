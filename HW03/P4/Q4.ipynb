{
 "cells": [
  {
   "cell_type": "code",
   "execution_count": 36,
   "id": "8b019027",
   "metadata": {},
   "outputs": [],
   "source": [
    "import numpy as np\n",
    "import numpy as np\n",
    "import cv2\n",
    "import matplotlib.pyplot as plt\n",
    "import pandas as pd"
   ]
  },
  {
   "cell_type": "markdown",
   "id": "6bd8a1d9",
   "metadata": {},
   "source": [
    "# Part a"
   ]
  },
  {
   "cell_type": "code",
   "execution_count": 11,
   "id": "d597238e",
   "metadata": {},
   "outputs": [],
   "source": [
    "def patch_extract(image):\n",
    "    img = cv2.imread(image)\n",
    "    (m , n, r)= img.shape\n",
    "    blocks = np.array([img[i:i+8, j:j+8] for j in range(0,n-7,8) for i in range(0,m-7,8)])\n",
    "    blocks_list=blocks.tolist()\n",
    "    #convert t0 4200*64\n",
    "    s=[]\n",
    "    blocks_asli=[]\n",
    "    for i in range(0,4200):\n",
    "        for j in range(0,8):\n",
    "            s=s+blocks_list[i][j]\n",
    "        blocks_asli.append(s)\n",
    "        s=[]\n",
    "    my_array = np.array(blocks_asli)\n",
    "    return my_array"
   ]
  },
  {
   "cell_type": "code",
   "execution_count": 12,
   "id": "91b72803",
   "metadata": {},
   "outputs": [],
   "source": [
    "my_array= patch_extract('donald.png')"
   ]
  },
  {
   "cell_type": "code",
   "execution_count": 13,
   "id": "84435269",
   "metadata": {},
   "outputs": [
    {
     "data": {
      "text/plain": [
       "(4200, 64, 3)"
      ]
     },
     "execution_count": 13,
     "metadata": {},
     "output_type": "execute_result"
    }
   ],
   "source": [
    "my_array.shape"
   ]
  },
  {
   "cell_type": "code",
   "execution_count": 14,
   "id": "f70db4f5",
   "metadata": {},
   "outputs": [],
   "source": [
    "blue,green,red = cv2.split(my_array)"
   ]
  },
  {
   "cell_type": "code",
   "execution_count": 15,
   "id": "4ced0e8b",
   "metadata": {},
   "outputs": [],
   "source": [
    "blue_temp_df = pd.DataFrame(data = blue)\n",
    "green_temp_df = pd.DataFrame(data = green)\n",
    "red_temp_df = pd.DataFrame(data = red)"
   ]
  },
  {
   "cell_type": "markdown",
   "id": "042d5c20",
   "metadata": {},
   "source": [
    "# Part b"
   ]
  },
  {
   "cell_type": "code",
   "execution_count": 16,
   "id": "be4c8cbf",
   "metadata": {},
   "outputs": [],
   "source": [
    "mean_X_blue = blue_temp_df.mean(axis=0)\n",
    "blue_temp_df = blue_temp_df - mean_X_blue\n",
    "mean_X_green = green_temp_df.mean(axis=0)\n",
    "green_temp_df = green_temp_df - mean_X_green\n",
    "mean_X_red = red_temp_df.mean(axis=0)\n",
    "red_temp_df = red_temp_df - mean_X_red\n",
    "normalized_df_blue = (blue_temp_df - blue_temp_df.min()) / (blue_temp_df.max() - blue_temp_df.min())\n",
    "normalized_df_green = (green_temp_df - green_temp_df.min()) / (green_temp_df.max() - green_temp_df.min())\n",
    "normalized_df_red = (red_temp_df - red_temp_df.min()) / (red_temp_df.max() - red_temp_df.min())"
   ]
  },
  {
   "cell_type": "code",
   "execution_count": 17,
   "id": "bf1f4895",
   "metadata": {},
   "outputs": [],
   "source": [
    "cov_matrix_blue = np.cov(normalized_df_blue.T)\n",
    "eigen_values_blue, eigen_vectors_blue = np.linalg.eig(cov_matrix_blue)\n",
    "cov_matrix_green = np.cov(normalized_df_green.T)\n",
    "eigen_values_green, eigen_vectors_green = np.linalg.eig(cov_matrix_green)\n",
    "cov_matrix_red = np.cov(normalized_df_red.T)\n",
    "eigen_values_red, eigen_vectors_red = np.linalg.eig(cov_matrix_red)"
   ]
  },
  {
   "cell_type": "code",
   "execution_count": 18,
   "id": "1fe165fc",
   "metadata": {},
   "outputs": [
    {
     "data": {
      "text/plain": [
       "(64, 64)"
      ]
     },
     "execution_count": 18,
     "metadata": {},
     "output_type": "execute_result"
    }
   ],
   "source": [
    "eigen_vectors_blue.shape"
   ]
  },
  {
   "cell_type": "code",
   "execution_count": 19,
   "id": "3c77c708",
   "metadata": {},
   "outputs": [],
   "source": [
    "eig_pairs_blue = [(eigen_values_blue[index], eigen_vectors_blue[index], normalized_df_blue.columns[index]) for index in range(len(eigen_values_blue))]\n",
    "eig_pairs_green = [(eigen_values_green[index], eigen_vectors_green[index], normalized_df_green.columns[index]) for index in range(len(eigen_values_green))]\n",
    "eig_pairs_red = [(eigen_values_red[index], eigen_vectors_red[index], normalized_df_red.columns[index]) for index in range(len(eigen_values_red))]\n",
    "eig_pairs_blue.sort(reverse=True)\n",
    "eig_pairs_green.sort(reverse=True)\n",
    "eig_pairs_red.sort(reverse=True)\n",
    "eigvalues_sort_blue  = [eig_pairs_blue[index][0] for index in range(len(eigen_values_blue))]\n",
    "eigvectors_sort_blue = [eig_pairs_blue[index][1] for index in range(len(eigen_values_blue))]\n",
    "sorted_columns_blue  = [eig_pairs_blue[index][2] for index in range(len(eigen_values_blue))]\n",
    "sorted_normalized_df_blue = np.array(normalized_df_blue[sorted_columns_blue])\n",
    "sorted_df_blue= np.array(blue_temp_df[sorted_columns_blue])\n",
    "eigvalues_sort_green  = [eig_pairs_green[index][0] for index in range(len(eigen_values_green))]\n",
    "eigvectors_sort_green = [eig_pairs_green[index][1] for index in range(len(eigen_values_green))]\n",
    "sorted_columns_green  = [eig_pairs_green[index][2] for index in range(len(eigen_values_green))]\n",
    "sorted_normalized_df_green = np.array(normalized_df_green[sorted_columns_green])\n",
    "eigvalues_sort_red  = [eig_pairs_red[index][0] for index in range(len(eigen_values_red))]\n",
    "eigvectors_sort_red = [eig_pairs_red[index][1] for index in range(len(eigen_values_red))]\n",
    "sorted_columns_red  = [eig_pairs_red[index][2] for index in range(len(eigen_values_red))]\n",
    "sorted_normalized_df_red = np.array(normalized_df_red[sorted_columns_red])"
   ]
  },
  {
   "cell_type": "code",
   "execution_count": 20,
   "id": "f724a9d8",
   "metadata": {},
   "outputs": [
    {
     "name": "stdout",
     "output_type": "stream",
     "text": [
      "Sorted Eigen Vectors for blue channel is : \n",
      " [[-0.11947512 -0.12521405 -0.12282112 ... -0.12377336 -0.12528236\n",
      "  -0.12724244]\n",
      " [ 0.09871062  0.05904384  0.00583904 ... -0.06135045 -0.01314881\n",
      "   0.04496825]\n",
      " [-0.21238581 -0.22249308 -0.20501055 ...  0.19326025  0.18936895\n",
      "   0.18403515]\n",
      " ...\n",
      " [-0.02738716  0.10884342  0.21212592 ... -0.12627434 -0.19496076\n",
      "  -0.10714315]\n",
      " [-0.03703369  0.12974965  0.11625116 ... -0.08988038 -0.21186286\n",
      "  -0.00395416]\n",
      " [-0.0722121  -0.04768545 -0.09604574 ...  0.03778346  0.07888795\n",
      "   0.18803241]] \n",
      "\n",
      "Sorted Eigen Values for blue chanel is : \n",
      " [2.84127601e+00 6.80682081e-02 5.27598138e-02 1.19248881e-02\n",
      " 9.41483323e-03 7.53740405e-03 4.47341870e-03 3.84582048e-03\n",
      " 2.99854980e-03 2.64588477e-03 2.00545061e-03 1.56427645e-03\n",
      " 1.39477843e-03 1.29048890e-03 9.82283824e-04 9.07493944e-04\n",
      " 8.59607113e-04 8.37389194e-04 7.06376493e-04 6.80689673e-04] \n",
      "\n"
     ]
    }
   ],
   "source": [
    "print(\"Sorted Eigen Vectors for blue channel is : \\n\", (np.array(eigvectors_sort_blue).T[:][:20]),\"\\n\")\n",
    "print(\"Sorted Eigen Values for blue chanel is : \\n\", (np.array(eigvalues_sort_blue).T[:][:20]), \"\\n\")"
   ]
  },
  {
   "cell_type": "code",
   "execution_count": 21,
   "id": "aeef3bd9",
   "metadata": {},
   "outputs": [],
   "source": [
    "projection_matrix_blue = (np.array(eigvectors_sort_blue).T[:][:8])\n",
    "projection_matrix_green = (np.array(eigvectors_sort_green).T[:][:8])\n",
    "projection_matrix_red = (np.array(eigvectors_sort_red).T[:][:8])"
   ]
  },
  {
   "cell_type": "code",
   "execution_count": 22,
   "id": "7c7b692b",
   "metadata": {},
   "outputs": [],
   "source": [
    "projection_reduced=cv2.merge((projection_matrix_blue,projection_matrix_green,projection_matrix_red))"
   ]
  },
  {
   "cell_type": "code",
   "execution_count": 23,
   "id": "b3db25f3",
   "metadata": {},
   "outputs": [],
   "source": [
    "project_asli=projection_reduced.reshape(-1,8,8,1)"
   ]
  },
  {
   "cell_type": "code",
   "execution_count": 24,
   "id": "68a337b1",
   "metadata": {},
   "outputs": [
    {
     "data": {
      "image/png": "[encoded data removed]",
      "text/plain": [
       "<Figure size 1440x576 with 8 Axes>"
      ]
     },
     "metadata": {
      "needs_background": "light"
     },
     "output_type": "display_data"
    }
   ],
   "source": [
    "fig, ax = plt.subplots(2,4, figsize=(20, 8))\n",
    "fig.subplots_adjust()\n",
    "for i, axi in enumerate(ax.flat):\n",
    "    axi.title.set_text('plot %ith eigen vector '%(i))\n",
    "    im = axi.imshow(project_asli[i])"
   ]
  },
  {
   "cell_type": "markdown",
   "id": "3ab8825c",
   "metadata": {},
   "source": [
    "# Part c"
   ]
  },
  {
   "cell_type": "code",
   "execution_count": 25,
   "id": "0022d951",
   "metadata": {},
   "outputs": [],
   "source": [
    "projection_blue=[]\n",
    "projection_blue.append (np.array(eigvectors_sort_blue).T[1])\n",
    "projection_blue.append (np.array(eigvectors_sort_blue).T[4])\n",
    "projection_blue.append (np.array(eigvectors_sort_blue).T[9])\n",
    "projection_blue.append (np.array(eigvectors_sort_blue).T[19])\n",
    "project_mat_blue=np.array(projection_blue)"
   ]
  },
  {
   "cell_type": "code",
   "execution_count": 26,
   "id": "ec7a9935",
   "metadata": {},
   "outputs": [],
   "source": [
    "projection_green=[]\n",
    "projection_green.append (np.array(eigvectors_sort_green).T[1])\n",
    "projection_green.append (np.array(eigvectors_sort_green).T[4])\n",
    "projection_green.append (np.array(eigvectors_sort_green).T[9])\n",
    "projection_green.append (np.array(eigvectors_sort_green).T[19])\n",
    "project_mat_green=np.array(projection_green)"
   ]
  },
  {
   "cell_type": "code",
   "execution_count": 27,
   "id": "32c6b9de",
   "metadata": {},
   "outputs": [],
   "source": [
    "projection_red=[]\n",
    "projection_red.append (np.array(eigvectors_sort_red).T[1])\n",
    "projection_red.append (np.array(eigvectors_sort_red).T[4])\n",
    "projection_red.append (np.array(eigvectors_sort_red).T[9])\n",
    "projection_red.append (np.array(eigvectors_sort_red).T[19])\n",
    "project_mat_red=np.array(projection_blue)"
   ]
  },
  {
   "cell_type": "code",
   "execution_count": 28,
   "id": "68c39daa",
   "metadata": {},
   "outputs": [],
   "source": [
    "proj_data_blue = np.dot(sorted_normalized_df_blue, project_mat_blue.T)\n",
    "proj_data_green = np.dot(sorted_normalized_df_green, project_mat_green.T)\n",
    "proj_data_red = np.dot(sorted_normalized_df_red, project_mat_red.T)"
   ]
  },
  {
   "cell_type": "code",
   "execution_count": 29,
   "id": "0be39cf7",
   "metadata": {},
   "outputs": [
    {
     "data": {
      "text/plain": [
       "(4200, 4, 3)"
      ]
     },
     "execution_count": 29,
     "metadata": {},
     "output_type": "execute_result"
    }
   ],
   "source": [
    "reduce_pic= (cv2.merge((proj_data_blue, proj_data_green, proj_data_red)))\n",
    "reduce_pic.shape"
   ]
  },
  {
   "cell_type": "code",
   "execution_count": 30,
   "id": "d0041baa",
   "metadata": {},
   "outputs": [
    {
     "data": {
      "text/plain": [
       "array([[[-0.01941134, -0.01941134, -0.01941134],\n",
       "        [ 0.02408792,  0.02408792,  0.02408792],\n",
       "        [-0.01276486, -0.01276486, -0.01276486],\n",
       "        [ 0.00151296,  0.00151296,  0.00151296]],\n",
       "\n",
       "       [[-0.01430549, -0.01430549, -0.01430549],\n",
       "        [ 0.02407012,  0.02407012,  0.02407012],\n",
       "        [-0.01915991, -0.01915991, -0.01915991],\n",
       "        [-0.00050212, -0.00050212, -0.00050212]],\n",
       "\n",
       "       [[-0.01888378, -0.01888378, -0.01888378],\n",
       "        [ 0.0262695 ,  0.0262695 ,  0.0262695 ],\n",
       "        [-0.01208169, -0.01208169, -0.01208169],\n",
       "        [-0.00087214, -0.00087214, -0.00087214]],\n",
       "\n",
       "       ...,\n",
       "\n",
       "       [[-0.0191938 , -0.0191938 , -0.0191938 ],\n",
       "        [ 0.00035609,  0.00035609,  0.00035609],\n",
       "        [-0.01920528, -0.01920528, -0.01920528],\n",
       "        [-0.0003483 , -0.0003483 , -0.0003483 ]],\n",
       "\n",
       "       [[-0.01894713, -0.01894713, -0.01894713],\n",
       "        [-0.00193223, -0.00193223, -0.00193223],\n",
       "        [-0.00609951, -0.00609951, -0.00609951],\n",
       "        [ 0.00976245,  0.00976245,  0.00976245]],\n",
       "\n",
       "       [[-0.00845418, -0.00845418, -0.00845418],\n",
       "        [ 0.00321678,  0.00321678,  0.00321678],\n",
       "        [-0.00903496, -0.00903496, -0.00903496],\n",
       "        [-0.00170434, -0.00170434, -0.00170434]]])"
      ]
     },
     "execution_count": 30,
     "metadata": {},
     "output_type": "execute_result"
    }
   ],
   "source": [
    "reduce_pic"
   ]
  },
  {
   "cell_type": "code",
   "execution_count": 31,
   "id": "ff8afe66",
   "metadata": {},
   "outputs": [],
   "source": [
    "image=reduce_pic.reshape(-1,2,2,3)"
   ]
  },
  {
   "cell_type": "markdown",
   "id": "d5cb8c5e",
   "metadata": {},
   "source": [
    "# Part e"
   ]
  },
  {
   "cell_type": "code",
   "execution_count": 32,
   "id": "1459425a",
   "metadata": {},
   "outputs": [],
   "source": [
    "def patch_reconstruct(img,numrows,numcols,show = False):\n",
    "    height = int(img.shape[0] / numrows)\n",
    "    width = int(img.shape[1] / numcols)\n",
    "    tiles = []\n",
    "    for row in range(numrows):\n",
    "        for col in range(numcols):\n",
    "            y0 = row * height\n",
    "            y1 = y0 + height\n",
    "            x0 = col * width\n",
    "            x1 = x0 + width\n",
    "            tiles.append(img[y0:y1, x0:x1])\n",
    "            if show:\n",
    "                cv2.imshow(\"tile\",img[y0:y1, x0:x1])\n",
    "                cv2.rectangle(img,(x0,y0),(x1,y1),(255),1)\n",
    "                cv2.imshow(\"Tile\",img)\n",
    "                cv2.waitKey(0)\n",
    "                cv2.destroyAllWindows\n",
    "    return tiles"
   ]
  },
  {
   "cell_type": "markdown",
   "id": "19c464e5",
   "metadata": {},
   "source": [
    "# Part f"
   ]
  },
  {
   "cell_type": "code",
   "execution_count": 33,
   "id": "67eed50e",
   "metadata": {},
   "outputs": [],
   "source": [
    "def patch_extract(image):\n",
    "    img = cv2.imread(image) \n",
    "    shape = img.shape\n",
    "    shape = list(shape)\n",
    "    shape[1] = 4\n",
    "    shape = tuple(shape)\n",
    "    blank_image = np.zeros(shape, np.float32)\n",
    "    img = np.concatenate((img, blank_image), axis=1)\n",
    "    (m,n,r)=img.shape\n",
    "    blocks = np.array([img[i:i+8, j:j+8] for j in range(0,n-7,8) for i in range(0,m-7,8)])\n",
    "    blocks_list=blocks.tolist()\n",
    "    s=[]\n",
    "    blocks_asli=[]\n",
    "    for i in range(0,6120):\n",
    "        for j in range(0,8):\n",
    "            s=s+blocks_list[i][j]\n",
    "        blocks_asli.append(s)\n",
    "        s=[]\n",
    "    my_array = np.array(blocks_asli)\n",
    "    return my_array"
   ]
  },
  {
   "cell_type": "code",
   "execution_count": 34,
   "id": "0f7b1495",
   "metadata": {},
   "outputs": [],
   "source": [
    "my_array= patch_extract('joe.png')"
   ]
  },
  {
   "cell_type": "code",
   "execution_count": 35,
   "id": "2a5b4f63",
   "metadata": {},
   "outputs": [],
   "source": [
    "blue,green,red = cv2.split(my_array)"
   ]
  },
  {
   "cell_type": "code",
   "execution_count": 37,
   "id": "6ff16f9a",
   "metadata": {},
   "outputs": [],
   "source": [
    "blue_temp_df = pd.DataFrame(data = blue)\n",
    "green_temp_df = pd.DataFrame(data = green)\n",
    "red_temp_df = pd.DataFrame(data = red)"
   ]
  },
  {
   "cell_type": "code",
   "execution_count": 38,
   "id": "d420f8be",
   "metadata": {},
   "outputs": [],
   "source": [
    "mean_X_blue = blue_temp_df.mean(axis=0)\n",
    "blue_temp_df = blue_temp_df - mean_X_blue\n",
    "mean_X_green = green_temp_df.mean(axis=0)\n",
    "green_temp_df = green_temp_df - mean_X_green\n",
    "mean_X_red = red_temp_df.mean(axis=0)\n",
    "red_temp_df = red_temp_df - mean_X_red\n",
    "normalized_df_blue = (blue_temp_df - blue_temp_df.min()) / (blue_temp_df.max() - blue_temp_df.min())\n",
    "normalized_df_green = (green_temp_df - green_temp_df.min()) / (green_temp_df.max() - green_temp_df.min())\n",
    "normalized_df_red = (red_temp_df - red_temp_df.min()) / (red_temp_df.max() - red_temp_df.min())"
   ]
  },
  {
   "cell_type": "code",
   "execution_count": 39,
   "id": "bcf5bcdb",
   "metadata": {},
   "outputs": [],
   "source": [
    "cov_matrix_blue = np.cov(normalized_df_blue.T)\n",
    "eigen_values_blue, eigen_vectors_blue = np.linalg.eig(cov_matrix_blue)\n",
    "cov_matrix_green = np.cov(normalized_df_green.T)\n",
    "eigen_values_green, eigen_vectors_green = np.linalg.eig(cov_matrix_green)\n",
    "cov_matrix_red = np.cov(normalized_df_red.T)\n",
    "eigen_values_red, eigen_vectors_red = np.linalg.eig(cov_matrix_red)"
   ]
  },
  {
   "cell_type": "code",
   "execution_count": 41,
   "id": "f2b10013",
   "metadata": {},
   "outputs": [
    {
     "data": {
      "text/plain": [
       "(64, 64)"
      ]
     },
     "execution_count": 41,
     "metadata": {},
     "output_type": "execute_result"
    }
   ],
   "source": [
    "eigen_vectors_blue.shape"
   ]
  },
  {
   "cell_type": "code",
   "execution_count": 42,
   "id": "90aac558",
   "metadata": {},
   "outputs": [],
   "source": [
    "eig_pairs_blue = [(eigen_values_blue[index], eigen_vectors_blue[index], normalized_df_blue.columns[index]) for index in range(len(eigen_values_blue))]\n",
    "eig_pairs_green = [(eigen_values_green[index], eigen_vectors_green[index], normalized_df_green.columns[index]) for index in range(len(eigen_values_green))]\n",
    "eig_pairs_red = [(eigen_values_red[index], eigen_vectors_red[index], normalized_df_red.columns[index]) for index in range(len(eigen_values_red))]\n",
    "eig_pairs_blue.sort(reverse=True)\n",
    "eig_pairs_green.sort(reverse=True)\n",
    "eig_pairs_red.sort(reverse=True)\n",
    "eigvalues_sort_blue  = [eig_pairs_blue[index][0] for index in range(len(eigen_values_blue))]\n",
    "eigvectors_sort_blue = [eig_pairs_blue[index][1] for index in range(len(eigen_values_blue))]\n",
    "sorted_columns_blue  = [eig_pairs_blue[index][2] for index in range(len(eigen_values_blue))]\n",
    "sorted_normalized_df_blue = np.array(normalized_df_blue[sorted_columns_blue])\n",
    "sorted_df_blue= np.array(blue_temp_df[sorted_columns_blue])\n",
    "eigvalues_sort_green  = [eig_pairs_green[index][0] for index in range(len(eigen_values_green))]\n",
    "eigvectors_sort_green = [eig_pairs_green[index][1] for index in range(len(eigen_values_green))]\n",
    "sorted_columns_green  = [eig_pairs_green[index][2] for index in range(len(eigen_values_green))]\n",
    "sorted_normalized_df_green = np.array(normalized_df_green[sorted_columns_green])\n",
    "eigvalues_sort_red  = [eig_pairs_red[index][0] for index in range(len(eigen_values_red))]\n",
    "eigvectors_sort_red = [eig_pairs_red[index][1] for index in range(len(eigen_values_red))]\n",
    "sorted_columns_red  = [eig_pairs_red[index][2] for index in range(len(eigen_values_red))]\n",
    "sorted_normalized_df_red = np.array(normalized_df_red[sorted_columns_red])"
   ]
  },
  {
   "cell_type": "code",
   "execution_count": 43,
   "id": "4ced26cd",
   "metadata": {},
   "outputs": [
    {
     "name": "stdout",
     "output_type": "stream",
     "text": [
      "Sorted Eigen Vectors for blue channel is : \n",
      " [[-0.12307952 -0.12386087 -0.12460549 ... -0.12528621 -0.12561685\n",
      "  -0.12527278]\n",
      " [ 0.16048943  0.11848753  0.066789   ... -0.07887508 -0.01399254\n",
      "   0.04686398]\n",
      " [-0.1619492  -0.1809498  -0.19142003 ...  0.16907925  0.16995955\n",
      "   0.16477516]\n",
      " ...\n",
      " [ 0.08725509  0.14289138  0.1667446  ...  0.0706638   0.03410883\n",
      "  -0.0081821 ]\n",
      " [ 0.07487827 -0.08018896 -0.08344873 ...  0.18871512 -0.10097342\n",
      "  -0.1752796 ]\n",
      " [-0.01383105  0.07275887  0.10354412 ...  0.15464991  0.2128355\n",
      "   0.24964713]] \n",
      "\n",
      "Sorted Eigen Values for blue chanel is : \n",
      " [4.67670749e+00 6.56936856e-02 4.15608819e-02 1.17494970e-02\n",
      " 9.68496745e-03 5.68315863e-03 3.79572449e-03 3.43428544e-03\n",
      " 2.58365317e-03 1.91717993e-03 1.60703942e-03 1.44397642e-03\n",
      " 1.15983038e-03 1.01128834e-03 9.86305720e-04 9.16397645e-04\n",
      " 8.28852439e-04 7.07719541e-04 6.42900495e-04 5.68725615e-04] \n",
      "\n"
     ]
    }
   ],
   "source": [
    "print(\"Sorted Eigen Vectors for blue channel is : \\n\", (np.array(eigvectors_sort_blue).T[:][:20]),\"\\n\")\n",
    "print(\"Sorted Eigen Values for blue chanel is : \\n\", (np.array(eigvalues_sort_blue).T[:][:20]), \"\\n\")"
   ]
  },
  {
   "cell_type": "code",
   "execution_count": 44,
   "id": "0d66ba50",
   "metadata": {},
   "outputs": [],
   "source": [
    "projection_matrix_blue = (np.array(eigvectors_sort_blue).T[:][:8])\n",
    "projection_matrix_green = (np.array(eigvectors_sort_green).T[:][:8])\n",
    "projection_matrix_red = (np.array(eigvectors_sort_red).T[:][:8])"
   ]
  },
  {
   "cell_type": "code",
   "execution_count": 45,
   "id": "b09043c3",
   "metadata": {},
   "outputs": [],
   "source": [
    "projection_reduced=cv2.merge((projection_matrix_blue,projection_matrix_green,projection_matrix_red))"
   ]
  },
  {
   "cell_type": "code",
   "execution_count": 46,
   "id": "222628eb",
   "metadata": {},
   "outputs": [],
   "source": [
    "project_asli=projection_reduced.reshape(-1,8,8,1)"
   ]
  },
  {
   "cell_type": "code",
   "execution_count": 47,
   "id": "00c64b1c",
   "metadata": {},
   "outputs": [
    {
     "data": {
      "image/png": "[encoded data removed]",
      "text/plain": [
       "<Figure size 1440x576 with 8 Axes>"
      ]
     },
     "metadata": {
      "needs_background": "light"
     },
     "output_type": "display_data"
    }
   ],
   "source": [
    "import matplotlib.pyplot as plt\n",
    "fig, ax = plt.subplots(2,4, figsize=(20, 8))\n",
    "fig.subplots_adjust()\n",
    "for i, axi in enumerate(ax.flat):\n",
    "    axi.title.set_text('plot %ith eigen vector '%(i))\n",
    "    im = axi.imshow(project_asli[i])"
   ]
  },
  {
   "cell_type": "code",
   "execution_count": 48,
   "id": "2c5ad90e",
   "metadata": {},
   "outputs": [],
   "source": [
    "projection_blue=[]\n",
    "projection_blue.append (np.array(eigvectors_sort_blue).T[1])\n",
    "projection_blue.append (np.array(eigvectors_sort_blue).T[4])\n",
    "projection_blue.append (np.array(eigvectors_sort_blue).T[9])\n",
    "projection_blue.append (np.array(eigvectors_sort_blue).T[19])\n",
    "project_mat_blue=np.array(projection_blue)"
   ]
  },
  {
   "cell_type": "code",
   "execution_count": 49,
   "id": "856736c1",
   "metadata": {},
   "outputs": [],
   "source": [
    "projection_green=[]\n",
    "projection_green.append (np.array(eigvectors_sort_green).T[1])\n",
    "projection_green.append (np.array(eigvectors_sort_green).T[4])\n",
    "projection_green.append (np.array(eigvectors_sort_green).T[9])\n",
    "projection_green.append (np.array(eigvectors_sort_green).T[19])\n",
    "project_mat_green=np.array(projection_green)"
   ]
  },
  {
   "cell_type": "code",
   "execution_count": 50,
   "id": "a66af4ae",
   "metadata": {},
   "outputs": [],
   "source": [
    "projection_red=[]\n",
    "projection_red.append (np.array(eigvectors_sort_red).T[1])\n",
    "projection_red.append (np.array(eigvectors_sort_red).T[4])\n",
    "projection_red.append (np.array(eigvectors_sort_red).T[9])\n",
    "projection_red.append (np.array(eigvectors_sort_red).T[19])\n",
    "project_mat_red=np.array(projection_blue)"
   ]
  },
  {
   "cell_type": "code",
   "execution_count": 51,
   "id": "5183bd34",
   "metadata": {},
   "outputs": [],
   "source": [
    "proj_data_blue = np.dot(sorted_normalized_df_blue, project_mat_blue.T)\n",
    "proj_data_green = np.dot(sorted_normalized_df_green, project_mat_green.T)\n",
    "proj_data_red = np.dot(sorted_normalized_df_red, project_mat_red.T)"
   ]
  },
  {
   "cell_type": "code",
   "execution_count": 52,
   "id": "1c904a26",
   "metadata": {},
   "outputs": [
    {
     "data": {
      "text/plain": [
       "(6120, 4, 3)"
      ]
     },
     "execution_count": 52,
     "metadata": {},
     "output_type": "execute_result"
    }
   ],
   "source": [
    "reduce_pic= (cv2.merge((proj_data_blue, proj_data_green, proj_data_red)))\n",
    "reduce_pic.shape"
   ]
  },
  {
   "cell_type": "code",
   "execution_count": 53,
   "id": "8bec6346",
   "metadata": {},
   "outputs": [
    {
     "data": {
      "text/plain": [
       "array([[[ 4.23966897e-03,  4.53385093e-03,  7.47952472e-03],\n",
       "        [ 9.75742799e-03, -1.10863251e-02,  9.38490126e-03],\n",
       "        [ 3.78599255e-04, -5.43221867e-04, -7.38781615e-04],\n",
       "        [ 1.12759496e-03,  1.37197443e-03, -6.15022384e-04]],\n",
       "\n",
       "       [[-1.76052945e-04, -1.07579500e-03, -2.03563567e-03],\n",
       "        [-1.79176289e-03,  2.44489389e-03,  4.65167461e-03],\n",
       "        [-1.52558404e-03,  3.25222543e-03,  1.18736047e-02],\n",
       "        [-3.82605282e-03, -3.49431200e-03,  1.14560158e-03]],\n",
       "\n",
       "       [[ 4.11242475e-04, -4.02237656e-04,  7.24390039e-04],\n",
       "        [ 6.78625353e-03, -5.03705403e-03,  8.09830800e-03],\n",
       "        [ 2.08552939e-03, -2.71287596e-03, -2.84769296e-03],\n",
       "        [ 1.18479711e-03,  1.49025989e-03, -7.62411437e-05]],\n",
       "\n",
       "       ...,\n",
       "\n",
       "       [[ 4.64552414e-01,  2.79891052e-01,  1.40701962e-01],\n",
       "        [-1.14687205e-02,  1.61571499e-02,  5.75301590e-02],\n",
       "        [ 8.18278027e-03, -3.45028766e-03,  2.22553749e-02],\n",
       "        [-4.49140176e-03,  8.68489233e-04, -1.97648874e-02]],\n",
       "\n",
       "       [[ 4.76032015e-01,  2.92344811e-01,  1.57235480e-01],\n",
       "        [ 1.84146800e-03,  4.23725378e-04,  7.04129729e-02],\n",
       "        [ 5.41657174e-03, -2.17644126e-04,  2.35019220e-02],\n",
       "        [-1.57234820e-02, -1.18623972e-02, -2.48981157e-02]],\n",
       "\n",
       "       [[ 4.83195971e-01,  3.00079307e-01,  1.60389780e-01],\n",
       "        [ 1.57831232e-02, -1.53492092e-02,  8.73926759e-02],\n",
       "        [ 2.58986702e-02, -2.23343948e-02,  2.40892858e-02],\n",
       "        [-5.54214660e-03,  4.96209371e-05, -2.24339123e-02]]])"
      ]
     },
     "execution_count": 53,
     "metadata": {},
     "output_type": "execute_result"
    }
   ],
   "source": [
    "reduce_pic"
   ]
  },
  {
   "cell_type": "code",
   "execution_count": null,
   "id": "32fd3ae0",
   "metadata": {},
   "outputs": [],
   "source": []
  }
 ],
 "metadata": {
  "kernelspec": {
   "display_name": "Python 3 (ipykernel)",
   "language": "python",
   "name": "python3"
  },
  "language_info": {
   "codemirror_mode": {
    "name": "ipython",
    "version": 3
   },
   "file_extension": ".py",
   "mimetype": "text/x-python",
   "name": "python",
   "nbconvert_exporter": "python",
   "pygments_lexer": "ipython3",
   "version": "3.9.7"
  }
 },
 "nbformat": 4,
 "nbformat_minor": 5
}
