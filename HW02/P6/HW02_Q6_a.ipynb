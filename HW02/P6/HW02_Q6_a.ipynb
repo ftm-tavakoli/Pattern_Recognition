{
 "cells": [
  {
   "cell_type": "code",
   "execution_count": 1,
   "metadata": {},
   "outputs": [],
   "source": [
    "import math\n",
    "import os\n",
    "import matplotlib.pyplot as plt\n",
    "import matplotlib.image as mpimg\n",
    "import numpy as np\n",
    "from sklearn import metrics"
   ]
  },
  {
   "cell_type": "code",
   "execution_count": 2,
   "metadata": {},
   "outputs": [],
   "source": [
    "def load_images(directory, flag):\n",
    "    dim = []\n",
    "    for filename in os.listdir(directory):\n",
    "        path = directory + \"/\" + filename\n",
    "        im = mpimg.imread(path)\n",
    "        for row in im:\n",
    "            for k in row:\n",
    "                if flag:\n",
    "                    img_gray = round(k[0] * 299. / 1000 + k[1] * 587. / 1000 + k[2] * 114. / 1000, 3)\n",
    "                    dim.append(img_gray)\n",
    "                else:\n",
    "                    dim.append(k[0])\n",
    "\n",
    "    return dim"
   ]
  },
  {
   "cell_type": "code",
   "execution_count": 3,
   "metadata": {},
   "outputs": [],
   "source": [
    "def recognize(input_data, input_label):\n",
    "    skin = []\n",
    "    non_skin = []\n",
    "    for i in range(len(input_label)):\n",
    "        if input_label[i] == 0:\n",
    "            non_skin.append(input_data[i])\n",
    "        else:\n",
    "            skin.append(input_data[i])\n",
    "    return skin, non_skin\n",
    "\n",
    "def prior():\n",
    "    global skin, non_skin\n",
    "    total = len(skin) + len(non_skin)\n",
    "    prior_skin = len(skin) / total\n",
    "    prior_non_skin = len(non_skin) / total\n",
    "    return prior_skin, prior_non_skin"
   ]
  },
  {
   "cell_type": "code",
   "execution_count": 4,
   "metadata": {},
   "outputs": [],
   "source": [
    "train_image_data = load_images(\"C:\\\\Users\\\\User\\\\homework\\\\P6\\\\pratheepan\\\\train\\\\set1\\\\images\", True)\n",
    "train_groundtruth_data = load_images(\"C:\\\\Users\\\\User\\\\homework\\\\P6\\\\pratheepan\\\\train\\\\set1\\\\groundtruth\", False)\n",
    "skin, non_skin = recognize(train_image_data, train_groundtruth_data)"
   ]
  },
  {
   "cell_type": "code",
   "execution_count": 5,
   "metadata": {},
   "outputs": [],
   "source": [
    "prior_skin, prior_non_skin = prior()"
   ]
  },
  {
   "cell_type": "code",
   "execution_count": 6,
   "metadata": {},
   "outputs": [
    {
     "name": "stdout",
     "output_type": "stream",
     "text": [
      "prior of skin class is : 0.27507549132497106\n",
      "prior of non-skin class is : 0.724924508675029\n"
     ]
    }
   ],
   "source": [
    "print(\"prior of skin class is : \" + str(prior_skin))\n",
    "print(\"prior of non-skin class is : \" + str(prior_non_skin))"
   ]
  },
  {
   "cell_type": "code",
   "execution_count": null,
   "metadata": {},
   "outputs": [],
   "source": []
  }
 ],
 "metadata": {
  "kernelspec": {
   "display_name": "Python 3",
   "language": "python",
   "name": "python3"
  },
  "language_info": {
   "codemirror_mode": {
    "name": "ipython",
    "version": 3
   },
   "file_extension": ".py",
   "mimetype": "text/x-python",
   "name": "python",
   "nbconvert_exporter": "python",
   "pygments_lexer": "ipython3",
   "version": "3.8.8"
  }
 },
 "nbformat": 4,
 "nbformat_minor": 4
}
