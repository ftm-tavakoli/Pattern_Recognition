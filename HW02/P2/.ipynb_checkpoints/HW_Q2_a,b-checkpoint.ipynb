{
 "cells": [
  {
   "cell_type": "code",
   "execution_count": 2,
   "id": "1f71ed10",
   "metadata": {},
   "outputs": [],
   "source": [
    "import glob\n",
    "import numpy as np\n",
    "import cv2\n",
    "from matplotlib import pyplot as plt"
   ]
  },
  {
   "cell_type": "code",
   "execution_count": 3,
   "id": "7ab13923",
   "metadata": {},
   "outputs": [],
   "source": [
    "def get_photo(i):\n",
    "\n",
    "    images = glob.glob (r\"C:\\\\Users\\\\Fateme\\\\Desktop\\\\inputs\\\\P2\\\\dataset\\\\a\\\\Train\\\\/\" + str(i) + '*')\n",
    "\n",
    "\n",
    "    image_data = []\n",
    "    for img in images:\n",
    "        this_image = cv2.imread(img)\n",
    "        image_data.append(this_image)\n",
    "\n",
    "    avg_image = image_data[0]\n",
    "    for i in range(len(image_data)):\n",
    "        if i == 0:\n",
    "            pass\n",
    "        else:\n",
    "            alpha = 1.0/(i + 1)\n",
    "            beta = 1.0 - alpha\n",
    "            avg_image = cv2.addWeighted(image_data[i], alpha, avg_image, beta, 0.0)\n",
    "\n",
    "    cv2.imwrite('avg_zero.png', avg_image)\n",
    "    plt.imshow(avg_image)\n",
    "    plt.show()\n",
    "    PHOTO_ARR = np.array(avg_image)\n",
    "    return PHOTO_ARR"
   ]
  },
  {
   "cell_type": "code",
   "execution_count": 4,
   "id": "50635087",
   "metadata": {},
   "outputs": [
    {
     "data": {
      "image/png": "[encoded data removed]",
      "text/plain": [
       "<Figure size 432x288 with 1 Axes>"
      ]
     },
     "metadata": {
      "needs_background": "light"
     },
     "output_type": "display_data"
    },
    {
     "data": {
      "text/plain": [
       "170.12444444444444"
      ]
     },
     "execution_count": 4,
     "metadata": {},
     "output_type": "execute_result"
    }
   ],
   "source": [
    "zero = get_photo(0)\n",
    "cv2.imwrite('avg_zero.png', zero)\n",
    "zero.mean()"
   ]
  },
  {
   "cell_type": "code",
   "execution_count": 5,
   "id": "2d3857dc",
   "metadata": {},
   "outputs": [
    {
     "data": {
      "image/png": "[encoded data removed]",
      "text/plain": [
       "<Figure size 432x288 with 1 Axes>"
      ]
     },
     "metadata": {
      "needs_background": "light"
     },
     "output_type": "display_data"
    },
    {
     "data": {
      "text/plain": [
       "179.09166666666667"
      ]
     },
     "execution_count": 5,
     "metadata": {},
     "output_type": "execute_result"
    }
   ],
   "source": [
    "one = get_photo(1)\n",
    "cv2.imwrite('avg_one.png', one)\n",
    "one.mean()"
   ]
  },
  {
   "cell_type": "code",
   "execution_count": 6,
   "id": "f77ec1ca",
   "metadata": {},
   "outputs": [],
   "source": [
    "def distance(a,b):\n",
    "    x = abs(np.subtract(a,b))\n",
    "    return x.mean()"
   ]
  },
  {
   "cell_type": "code",
   "execution_count": 7,
   "id": "882bb2ff",
   "metadata": {},
   "outputs": [],
   "source": [
    "images = glob.glob (r\"C:\\\\Users\\\\Fateme\\\\Desktop\\\\inputs\\\\P2\\\\dataset\\\\a\\\\Test\\\\/*\")\n",
    "\n",
    "test_data = []\n",
    "test_label = []\n",
    "for img in images:\n",
    "    this_image = cv2.imread(img)\n",
    "    test_data.append(this_image)\n",
    "    \n",
    "for i in range(0,10):\n",
    "    test_label.append(0)\n",
    "for i in range(10,20):\n",
    "    test_label.append(1)    \n",
    "\n",
    "predict =[]\n",
    "for i in range(len(test_data)):\n",
    "    a = distance(test_data[i] , zero)\n",
    "    b = distance(test_data[i], one)\n",
    "    if a < b:\n",
    "        predict.append(0)\n",
    "    else:\n",
    "        predict.append(1)\n"
   ]
  },
  {
   "cell_type": "code",
   "execution_count": 8,
   "id": "5fa32ca7",
   "metadata": {},
   "outputs": [
    {
     "name": "stdout",
     "output_type": "stream",
     "text": [
      "the acuraccy of MDC : 0.8\n"
     ]
    }
   ],
   "source": [
    "from sklearn.metrics import accuracy_score\n",
    "score = accuracy_score(test_label, predict)\n",
    "print('the acuraccy of MDC : '+str(score))"
   ]
  }
 ],
 "metadata": {
  "kernelspec": {
   "display_name": "Python 3",
   "language": "python",
   "name": "python3"
  },
  "language_info": {
   "codemirror_mode": {
    "name": "ipython",
    "version": 3
   },
   "file_extension": ".py",
   "mimetype": "text/x-python",
   "name": "python",
   "nbconvert_exporter": "python",
   "pygments_lexer": "ipython3",
   "version": "3.8.8"
  }
 },
 "nbformat": 4,
 "nbformat_minor": 5
}
