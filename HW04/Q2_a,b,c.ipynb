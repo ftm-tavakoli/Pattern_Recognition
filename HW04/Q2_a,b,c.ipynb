{
 "cells": [
  {
   "cell_type": "code",
   "execution_count": 2,
   "id": "683bc0c4",
   "metadata": {},
   "outputs": [],
   "source": [
    "import numpy as np\n",
    "import pandas as pd\n",
    "from scipy.spatial.distance import cdist \n",
    "from sklearn.decomposition import PCA\n",
    "from sklearn.cluster import KMeans\n",
    "import matplotlib.pyplot as plt\n",
    "from scipy.spatial.distance import cdist \n",
    "import scipy.io\n",
    "from sklearn.metrics import accuracy_score"
   ]
  },
  {
   "cell_type": "markdown",
   "id": "044ef44d",
   "metadata": {},
   "source": [
    "# Part a"
   ]
  },
  {
   "cell_type": "code",
   "execution_count": 10,
   "id": "df8ecc25",
   "metadata": {},
   "outputs": [],
   "source": [
    "data = pd.read_csv('breast_data.csv',header=None)\n",
    "pca = PCA(2)\n",
    "df = pca.fit_transform(data)"
   ]
  },
  {
   "cell_type": "code",
   "execution_count": 8,
   "id": "e053eb39",
   "metadata": {},
   "outputs": [],
   "source": [
    "def kmeans(x,k,mu,tol,no_of_iterations):\n",
    "\n",
    "    centroids = x[mu, :] \n",
    "    distances = cdist(x, centroids ,'euclidean') \n",
    "     \n",
    "    C = np.array([np.argmin(i) for i in distances]) \n",
    "     \n",
    "    for m in range(no_of_iterations): \n",
    "        new_centroids = []\n",
    "        for mu in range(k):\n",
    "            temp_cent = x[C==mu].mean(axis=0) \n",
    "            new_centroids.append(temp_cent)\n",
    "            \n",
    "        if np.allclose(centroids,new_centroids,tol) :\n",
    "            centroids = np.vstack(new_centroids)\n",
    "        else:\n",
    "            break\n",
    "        distances = cdist(x, centroids ,'euclidean')\n",
    "        C = np.array([np.argmin(i) for i in distances])\n",
    "         \n",
    "    return C "
   ]
  },
  {
   "cell_type": "code",
   "execution_count": 7,
   "id": "a15deb02",
   "metadata": {},
   "outputs": [
    {
     "name": "stdout",
     "output_type": "stream",
     "text": [
      "[265 232]\n"
     ]
    },
    {
     "data": {
      "image/png": "[encoded data removed]",
      "text/plain": [
       "<Figure size 432x288 with 1 Axes>"
      ]
     },
     "metadata": {
      "needs_background": "light"
     },
     "output_type": "display_data"
    }
   ],
   "source": [
    "mu = np.random.choice(len(df), 2 , replace=False)\n",
    "\n",
    "label = kmeans(df,2,mu,0.000001,10000)\n",
    "u_labels = np.unique(label)\n",
    "\n",
    "for i in u_labels:\n",
    "    plt.scatter(df[label == i , 0] , df[label == i , 1] , label = i)\n",
    "plt.legend()\n",
    "plt.show()\n"
   ]
  },
  {
   "cell_type": "code",
   "execution_count": 10,
   "id": "519beb39",
   "metadata": {},
   "outputs": [
    {
     "data": {
      "text/plain": [
       "0.5887521968365553"
      ]
     },
     "execution_count": 10,
     "metadata": {},
     "output_type": "execute_result"
    }
   ],
   "source": [
    "y = pd.read_csv('breast_labels.csv',header=None)\n",
    "accuracy_score(y,label)"
   ]
  },
  {
   "cell_type": "markdown",
   "id": "b004e5ce",
   "metadata": {},
   "source": [
    "# Part b\n",
    "#### I choose initial points random so by each run you start with diffrenet point."
   ]
  },
  {
   "cell_type": "code",
   "execution_count": 124,
   "id": "07bc7419",
   "metadata": {},
   "outputs": [
    {
     "data": {
      "image/png": "[encoded data removed]",
      "text/plain": [
       "<Figure size 432x288 with 1 Axes>"
      ]
     },
     "metadata": {
      "needs_background": "light"
     },
     "output_type": "display_data"
    }
   ],
   "source": [
    "mu = np.random.choice(len(df), 2 , replace=False)\n",
    "\n",
    "label = kmeans(df,2,mu,0.000001,10000)\n",
    "unique_labels = np.unique(label)\n",
    "\n",
    "for i in unique_labels:\n",
    "    plt.scatter(df[label == i , 0] , df[label == i , 1] , label = i)\n",
    "plt.legend()\n",
    "plt.show()"
   ]
  },
  {
   "cell_type": "code",
   "execution_count": 125,
   "id": "98ee33fe",
   "metadata": {},
   "outputs": [
    {
     "data": {
      "text/plain": [
       "0.8857644991212654"
      ]
     },
     "execution_count": 125,
     "metadata": {},
     "output_type": "execute_result"
    }
   ],
   "source": [
    "y = pd.read_csv('breast_labels.csv',header=None)\n",
    "accuracy_score(y,label)"
   ]
  },
  {
   "cell_type": "markdown",
   "id": "3e4be44d",
   "metadata": {},
   "source": [
    "# Part c"
   ]
  },
  {
   "cell_type": "code",
   "execution_count": 126,
   "id": "04964995",
   "metadata": {},
   "outputs": [],
   "source": [
    "mat_contents = scipy.io.loadmat(\"init_mu.mat\")\n",
    "mu_init= mat_contents['mu_init']\n",
    "a = mu_init[[2,3],:]"
   ]
  },
  {
   "cell_type": "code",
   "execution_count": 127,
   "id": "d81c4104",
   "metadata": {},
   "outputs": [],
   "source": [
    "def modify_kmeans(x,k,mu,tol,no_of_iterations):\n",
    "\n",
    "    centroids = mu\n",
    "    distances = cdist(x, centroids ,'euclidean') \n",
    "     \n",
    "    C = np.array([np.argmin(i) for i in distances]) \n",
    "     \n",
    "    for m in range(no_of_iterations): \n",
    "        new_centroids = []\n",
    "        for mu in range(k):\n",
    "            temp_cent = x[C==mu].mean(axis=0) \n",
    "            new_centroids.append(temp_cent)\n",
    "            \n",
    "        if np.allclose(centroids,new_centroids,tol) :\n",
    "            centroids = np.vstack(new_centroids)\n",
    "        else:\n",
    "            break\n",
    "        distances = cdist(x, centroids ,'euclidean')\n",
    "        C = np.array([np.argmin(i) for i in distances])\n",
    "         \n",
    "    return C "
   ]
  },
  {
   "cell_type": "code",
   "execution_count": 128,
   "id": "614af56a",
   "metadata": {},
   "outputs": [
    {
     "name": "stdout",
     "output_type": "stream",
     "text": [
      "\n",
      "for initial center : \n",
      "[[ 1.1125  0.4038]\n",
      " [-0.7193 -0.3442]]\n",
      " accuracy is : 0.09666080843585237\n",
      "\n",
      "for initial center : \n",
      "[[-0.7193 -0.3442]\n",
      " [-0.2734 -0.9801]]\n",
      " accuracy is : 0.9261862917398945\n",
      "\n",
      "for initial center : \n",
      "[[-0.2734 -0.9801]\n",
      " [ 0.6774  1.8573]]\n",
      " accuracy is : 0.8453427065026362\n",
      "\n",
      "for initial center : \n",
      "[[ 0.6774  1.8573]\n",
      " [-0.9365  0.3095]]\n",
      " accuracy is : 0.10720562390158173\n",
      "\n",
      "for initial center : \n",
      "[[-0.9365  0.3095]\n",
      " [ 0.4257 -0.4891]]\n",
      " accuracy is : 0.9191564147627417\n",
      "\n",
      "for initial center : \n",
      "[[ 0.4257 -0.4891]\n",
      " [-0.0745 -0.6949]]\n",
      " accuracy is : 0.09666080843585237\n",
      "\n",
      "for initial center : \n",
      "[[-0.0745 -0.6949]\n",
      " [-1.3988 -0.1804]]\n",
      " accuracy is : 0.0843585237258348\n",
      "\n",
      "for initial center : \n",
      "[[-1.3988 -0.1804]\n",
      " [ 0.1923  1.2563]]\n",
      " accuracy is : 0.8927943760984183\n",
      "\n",
      "for initial center : \n",
      "[[0.1923 1.2563]\n",
      " [0.5804 1.9107]]\n",
      " accuracy is : 0.8681898066783831\n",
      "\n",
      "for initial center : \n",
      "[[0.5804 1.9107]\n",
      " [0.6379 0.0272]]\n",
      " accuracy is : 0.6274165202108963\n",
      "\n",
      "for initial center : \n",
      "[[ 0.6379  0.0272]\n",
      " [-0.566   0.4271]]\n",
      " accuracy is : 0.08611599297012303\n",
      "\n",
      "for initial center : \n",
      "[[-0.566   0.4271]\n",
      " [-0.0161  0.3234]]\n",
      " accuracy is : 0.9068541300527241\n",
      "\n",
      "for initial center : \n",
      "[[-0.0161  0.3234]\n",
      " [ 0.6223 -1.649 ]]\n",
      " accuracy is : 0.9209138840070299\n",
      "\n",
      "for initial center : \n",
      "[[ 0.6223 -1.649 ]\n",
      " [ 0.5334  0.1403]]\n",
      " accuracy is : 0.3022847100175747\n",
      "\n",
      "for initial center : \n",
      "[[ 0.5334  0.1403]\n",
      " [-0.3893 -0.498 ]]\n",
      " accuracy is : 0.10017574692442882\n",
      "\n",
      "for initial center : \n",
      "[[-0.3893 -0.498 ]\n",
      " [-1.2717 -0.4278]]\n",
      " accuracy is : 0.09314586994727592\n",
      "\n",
      "for initial center : \n",
      "[[-1.2717 -0.4278]\n",
      " [ 0.2726 -0.1509]]\n",
      " accuracy is : 0.9068541300527241\n",
      "\n",
      "for initial center : \n",
      "[[ 0.2726 -0.1509]\n",
      " [ 0.3175 -2.8908]]\n",
      " accuracy is : 0.5817223198594025\n",
      "\n",
      "for initial center : \n",
      "[[ 0.3175 -2.8908]\n",
      " [ 1.4984 -0.7345]]\n",
      " accuracy is : 0.8646748681898067\n",
      "\n",
      "for initial center : \n",
      "[[ 1.4984 -0.7345]\n",
      " [-1.5538  0.7562]]\n",
      " accuracy is : 0.08260105448154657\n",
      "\n",
      "for initial center : \n",
      "[[-1.5538  0.7562]\n",
      " [-0.3543  0.1208]]\n",
      " accuracy is : 0.9173989455184535\n",
      "\n",
      "for initial center : \n",
      "[[-0.3543  0.1208]\n",
      " [ 0.4342 -0.5159]]\n",
      " accuracy is : 0.9209138840070299\n",
      "\n",
      "for initial center : \n",
      "[[ 0.4342 -0.5159]\n",
      " [-0.1015 -0.3409]]\n",
      " accuracy is : 0.08611599297012303\n",
      "\n",
      "for initial center : \n",
      "[[-0.1015 -0.3409]\n",
      " [ 2.0288 -1.08  ]]\n",
      " accuracy is : 0.9138840070298769\n",
      "\n",
      "for initial center : \n",
      "[[ 2.0288 -1.08  ]\n",
      " [-0.3672 -0.6974]]\n",
      " accuracy is : 0.09314586994727592\n",
      "\n",
      "for initial center : \n",
      "[[-0.3672 -0.6974]\n",
      " [-2.3638 -0.583 ]]\n",
      " accuracy is : 0.09314586994727592\n",
      "\n",
      "for initial center : \n",
      "[[-2.3638 -0.583 ]\n",
      " [ 0.7299 -0.1861]]\n",
      " accuracy is : 0.9068541300527241\n",
      "\n",
      "for initial center : \n",
      "[[ 0.7299 -0.1861]\n",
      " [-1.399   0.588 ]]\n",
      " accuracy is : 0.0843585237258348\n",
      "\n",
      "for initial center : \n",
      "[[-1.399   0.588 ]\n",
      " [ 1.3149 -0.021 ]]\n",
      " accuracy is : 0.9103690685413005\n"
     ]
    }
   ],
   "source": [
    "best_accuracy = []\n",
    "for i in range(len(mu_init)-1):\n",
    "    a = mu_init[[i,i+1],:]\n",
    "    result = modify_kmeans(df,2,a,0.00001,10)\n",
    "    accuracy = accuracy_score(y,result)\n",
    "    best_accuracy.append(accuracy)\n",
    "    print('\\nfor initial center : \\n' + str(a) + '\\n accuracy is : ' + str(accuracy))"
   ]
  },
  {
   "cell_type": "code",
   "execution_count": 129,
   "id": "795a6dca",
   "metadata": {},
   "outputs": [
    {
     "data": {
      "text/plain": [
       "0.9261862917398945"
      ]
     },
     "execution_count": 129,
     "metadata": {},
     "output_type": "execute_result"
    }
   ],
   "source": [
    "max(best_accuracy)"
   ]
  },
  {
   "cell_type": "markdown",
   "id": "005ff625",
   "metadata": {},
   "source": [
    "### بعد از به دست اوردن میانگین های واقعی ممکن است خطای دسته بندی ما کم شود با توجه به توزیع داده ها و تعداد میانگین انتخابی میتوان خطا را کم کرد در این راستا می توان از متد هایی (elbow method) کمک گرفت"
   ]
  },
  {
   "cell_type": "markdown",
   "id": "2b5f602f",
   "metadata": {},
   "source": [
    "#### kmeans error is e<bayes error < 2e so usually it works Optimal if your dataset is linearly seperable"
   ]
  }
 ],
 "metadata": {
  "kernelspec": {
   "display_name": "Python 3 (ipykernel)",
   "language": "python",
   "name": "python3"
  },
  "language_info": {
   "codemirror_mode": {
    "name": "ipython",
    "version": 3
   },
   "file_extension": ".py",
   "mimetype": "text/x-python",
   "name": "python",
   "nbconvert_exporter": "python",
   "pygments_lexer": "ipython3",
   "version": "3.9.7"
  }
 },
 "nbformat": 4,
 "nbformat_minor": 5
}
